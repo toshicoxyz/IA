{
  "nbformat": 4,
  "nbformat_minor": 0,
  "metadata": {
    "colab": {
      "provenance": [],
      "authorship_tag": "ABX9TyNmHez7X2xHG0yM35JO5Tdz",
      "include_colab_link": true
    },
    "kernelspec": {
      "name": "python3",
      "display_name": "Python 3"
    },
    "language_info": {
      "name": "python"
    }
  },
  "cells": [
    {
      "cell_type": "markdown",
      "metadata": {
        "id": "view-in-github",
        "colab_type": "text"
      },
      "source": [
        "<a href=\"https://colab.research.google.com/github/toshicoxyz/IA/blob/main/Copia_de_IA.ipynb\" target=\"_parent\"><img src=\"https://colab.research.google.com/assets/colab-badge.svg\" alt=\"Open In Colab\"/></a>"
      ]
    },
    {
      "cell_type": "code",
      "execution_count": 7,
      "metadata": {
        "id": "0yUUF2GeP61D"
      },
      "outputs": [],
      "source": [
        "import tensorflow as tf\n",
        "import pandas as pd\n",
        "import numpy as np\n",
        "import seaborn as sns\n",
        "import matplotlib.pyplot as plt "
      ]
    },
    {
      "cell_type": "code",
      "source": [
        "# Importando Datos\n",
        "data = pd.read_csv(\"/content/Datos3.csv\", sep=';')"
      ],
      "metadata": {
        "id": "O3dcWj42QULy"
      },
      "execution_count": 49,
      "outputs": []
    },
    {
      "cell_type": "code",
      "source": [
        "#Visualizar \n",
        "sns.scatterplot(data['Celsius'], data['Fahrenheit'])"
      ],
      "metadata": {
        "colab": {
          "base_uri": "https://localhost:8080/",
          "height": 351
        },
        "id": "0wnclLr3TjNO",
        "outputId": "3f2aa334-f868-4c55-b533-f20df00d9f19"
      },
      "execution_count": 82,
      "outputs": [
        {
          "output_type": "stream",
          "name": "stderr",
          "text": [
            "/usr/local/lib/python3.7/dist-packages/seaborn/_decorators.py:43: FutureWarning: Pass the following variables as keyword args: x, y. From version 0.12, the only valid positional argument will be `data`, and passing other arguments without an explicit keyword will result in an error or misinterpretation.\n",
            "  FutureWarning\n"
          ]
        },
        {
          "output_type": "execute_result",
          "data": {
            "text/plain": [
              "<matplotlib.axes._subplots.AxesSubplot at 0x7f595e147950>"
            ]
          },
          "metadata": {},
          "execution_count": 82
        },
        {
          "output_type": "display_data",
          "data": {
            "text/plain": [
              "<Figure size 432x288 with 1 Axes>"
            ],
            "image/png": "[encoded data removed]"
          },
          "metadata": {
            "needs_background": "light"
          }
        }
      ]
    },
    {
      "cell_type": "code",
      "source": [
        "#Cargando un set de Datos\n",
        "X_train = data['Celsius']\n",
        "Y_train = data['Fahrenheit']"
      ],
      "metadata": {
        "id": "o3NOeFEuZxH9"
      },
      "execution_count": 58,
      "outputs": []
    },
    {
      "cell_type": "code",
      "source": [
        "#Crear el modelo\n",
        "model = tf.keras.Sequential()\n",
        "model.add(tf.keras.layers.Dense(units=1,input_shape=[1]))"
      ],
      "metadata": {
        "id": "L33nvn2BaNq7"
      },
      "execution_count": 62,
      "outputs": []
    },
    {
      "cell_type": "code",
      "source": [
        "#model.summary()\n",
        "\n",
        "#Compilado\n",
        "model.compile(optimizer=tf.keras.optimizers.Adam(1),loss='mean_squared_error')"
      ],
      "metadata": {
        "id": "P0aDc5eXcHz7"
      },
      "execution_count": 77,
      "outputs": []
    },
    {
      "cell_type": "code",
      "source": [
        "#Entrenamiento del Modelo\n",
        "epochs_hist = model.fit(X_train,Y_train,epochs = 100)"
      ],
      "metadata": {
        "colab": {
          "base_uri": "https://localhost:8080/"
        },
        "id": "RnYejJigdn9y",
        "outputId": "07f0efe1-fe67-430d-b97a-7048863dd4f2"
      },
      "execution_count": 78,
      "outputs": [
        {
          "output_type": "stream",
          "name": "stdout",
          "text": [
            "Epoch 1/100\n",
            "1/1 [==============================] - 0s 293ms/step - loss: 1.2986\n",
            "Epoch 2/100\n",
            "1/1 [==============================] - 0s 8ms/step - loss: 398.5810\n",
            "Epoch 3/100\n",
            "1/1 [==============================] - 0s 6ms/step - loss: 26.4635\n",
            "Epoch 4/100\n",
            "1/1 [==============================] - 0s 6ms/step - loss: 85.0021\n",
            "Epoch 5/100\n",
            "1/1 [==============================] - 0s 6ms/step - loss: 229.7828\n",
            "Epoch 6/100\n",
            "1/1 [==============================] - 0s 6ms/step - loss: 175.6124\n",
            "Epoch 7/100\n",
            "1/1 [==============================] - 0s 6ms/step - loss: 51.9017\n",
            "Epoch 8/100\n",
            "1/1 [==============================] - 0s 6ms/step - loss: 0.2283\n",
            "Epoch 9/100\n",
            "1/1 [==============================] - 0s 7ms/step - loss: 46.3477\n",
            "Epoch 10/100\n",
            "1/1 [==============================] - 0s 6ms/step - loss: 107.2284\n",
            "Epoch 11/100\n",
            "1/1 [==============================] - 0s 6ms/step - loss: 107.4516\n",
            "Epoch 12/100\n",
            "1/1 [==============================] - 0s 6ms/step - loss: 56.5215\n",
            "Epoch 13/100\n",
            "1/1 [==============================] - 0s 6ms/step - loss: 8.9645\n",
            "Epoch 14/100\n",
            "1/1 [==============================] - 0s 6ms/step - loss: 3.5895\n",
            "Epoch 15/100\n",
            "1/1 [==============================] - 0s 7ms/step - loss: 33.3416\n",
            "Epoch 16/100\n",
            "1/1 [==============================] - 0s 7ms/step - loss: 59.3248\n",
            "Epoch 17/100\n",
            "1/1 [==============================] - 0s 7ms/step - loss: 54.5065\n",
            "Epoch 18/100\n",
            "1/1 [==============================] - 0s 11ms/step - loss: 26.7866\n",
            "Epoch 19/100\n",
            "1/1 [==============================] - 0s 9ms/step - loss: 3.3974\n",
            "Epoch 20/100\n",
            "1/1 [==============================] - 0s 7ms/step - loss: 2.7993\n",
            "Epoch 21/100\n",
            "1/1 [==============================] - 0s 7ms/step - loss: 19.5149\n",
            "Epoch 22/100\n",
            "1/1 [==============================] - 0s 8ms/step - loss: 32.7556\n",
            "Epoch 23/100\n",
            "1/1 [==============================] - 0s 12ms/step - loss: 28.8818\n",
            "Epoch 24/100\n",
            "1/1 [==============================] - 0s 11ms/step - loss: 13.1374\n",
            "Epoch 25/100\n",
            "1/1 [==============================] - 0s 8ms/step - loss: 1.1307\n",
            "Epoch 26/100\n",
            "1/1 [==============================] - 0s 7ms/step - loss: 2.4340\n",
            "Epoch 27/100\n",
            "1/1 [==============================] - 0s 8ms/step - loss: 12.3708\n",
            "Epoch 28/100\n",
            "1/1 [==============================] - 0s 8ms/step - loss: 18.6380\n",
            "Epoch 29/100\n",
            "1/1 [==============================] - 0s 7ms/step - loss: 14.7129\n",
            "Epoch 30/100\n",
            "1/1 [==============================] - 0s 7ms/step - loss: 5.3795\n",
            "Epoch 31/100\n",
            "1/1 [==============================] - 0s 7ms/step - loss: 0.0786\n",
            "Epoch 32/100\n",
            "1/1 [==============================] - 0s 7ms/step - loss: 2.7496\n",
            "Epoch 33/100\n",
            "1/1 [==============================] - 0s 7ms/step - loss: 8.6417\n",
            "Epoch 34/100\n",
            "1/1 [==============================] - 0s 8ms/step - loss: 10.4950\n",
            "Epoch 35/100\n",
            "1/1 [==============================] - 0s 7ms/step - loss: 6.5081\n",
            "Epoch 36/100\n",
            "1/1 [==============================] - 0s 8ms/step - loss: 1.3485\n",
            "Epoch 37/100\n",
            "1/1 [==============================] - 0s 8ms/step - loss: 0.2079\n",
            "Epoch 38/100\n",
            "1/1 [==============================] - 0s 8ms/step - loss: 3.1981\n",
            "Epoch 39/100\n",
            "1/1 [==============================] - 0s 8ms/step - loss: 5.9848\n",
            "Epoch 40/100\n",
            "1/1 [==============================] - 0s 8ms/step - loss: 5.1957\n",
            "Epoch 41/100\n",
            "1/1 [==============================] - 0s 8ms/step - loss: 1.9828\n",
            "Epoch 42/100\n",
            "1/1 [==============================] - 0s 7ms/step - loss: 0.0282\n",
            "Epoch 43/100\n",
            "1/1 [==============================] - 0s 8ms/step - loss: 1.0349\n",
            "Epoch 44/100\n",
            "1/1 [==============================] - 0s 9ms/step - loss: 3.1044\n",
            "Epoch 45/100\n",
            "1/1 [==============================] - 0s 8ms/step - loss: 3.4552\n",
            "Epoch 46/100\n",
            "1/1 [==============================] - 0s 7ms/step - loss: 1.7673\n",
            "Epoch 47/100\n",
            "1/1 [==============================] - 0s 14ms/step - loss: 0.1623\n",
            "Epoch 48/100\n",
            "1/1 [==============================] - 0s 10ms/step - loss: 0.3339\n",
            "Epoch 49/100\n",
            "1/1 [==============================] - 0s 14ms/step - loss: 1.6127\n",
            "Epoch 50/100\n",
            "1/1 [==============================] - 0s 9ms/step - loss: 2.1320\n",
            "Epoch 51/100\n",
            "1/1 [==============================] - 0s 11ms/step - loss: 1.2630\n",
            "Epoch 52/100\n",
            "1/1 [==============================] - 0s 17ms/step - loss: 0.1793\n",
            "Epoch 53/100\n",
            "1/1 [==============================] - 0s 12ms/step - loss: 0.1336\n",
            "Epoch 54/100\n",
            "1/1 [==============================] - 0s 7ms/step - loss: 0.9006\n",
            "Epoch 55/100\n",
            "1/1 [==============================] - 0s 8ms/step - loss: 1.2905\n",
            "Epoch 56/100\n",
            "1/1 [==============================] - 0s 7ms/step - loss: 0.7945\n",
            "Epoch 57/100\n",
            "1/1 [==============================] - 0s 7ms/step - loss: 0.1168\n",
            "Epoch 58/100\n",
            "1/1 [==============================] - 0s 7ms/step - loss: 0.0822\n",
            "Epoch 59/100\n",
            "1/1 [==============================] - 0s 7ms/step - loss: 0.5585\n",
            "Epoch 60/100\n",
            "1/1 [==============================] - 0s 8ms/step - loss: 0.7809\n",
            "Epoch 61/100\n",
            "1/1 [==============================] - 0s 7ms/step - loss: 0.4503\n",
            "Epoch 62/100\n",
            "1/1 [==============================] - 0s 8ms/step - loss: 0.0490\n",
            "Epoch 63/100\n",
            "1/1 [==============================] - 0s 7ms/step - loss: 0.0758\n",
            "Epoch 64/100\n",
            "1/1 [==============================] - 0s 7ms/step - loss: 0.3791\n",
            "Epoch 65/100\n",
            "1/1 [==============================] - 0s 7ms/step - loss: 0.4664\n",
            "Epoch 66/100\n",
            "1/1 [==============================] - 0s 7ms/step - loss: 0.2241\n",
            "Epoch 67/100\n",
            "1/1 [==============================] - 0s 7ms/step - loss: 0.0093\n",
            "Epoch 68/100\n",
            "1/1 [==============================] - 0s 11ms/step - loss: 0.0834\n",
            "Epoch 69/100\n",
            "1/1 [==============================] - 0s 7ms/step - loss: 0.2678\n",
            "Epoch 70/100\n",
            "1/1 [==============================] - 0s 19ms/step - loss: 0.2639\n",
            "Epoch 71/100\n",
            "1/1 [==============================] - 0s 15ms/step - loss: 0.0895\n",
            "Epoch 72/100\n",
            "1/1 [==============================] - 0s 9ms/step - loss: 7.8511e-04\n",
            "Epoch 73/100\n",
            "1/1 [==============================] - 0s 19ms/step - loss: 0.0906\n",
            "Epoch 74/100\n",
            "1/1 [==============================] - 0s 9ms/step - loss: 0.1836\n",
            "Epoch 75/100\n",
            "1/1 [==============================] - 0s 8ms/step - loss: 0.1316\n",
            "Epoch 76/100\n",
            "1/1 [==============================] - 0s 10ms/step - loss: 0.0223\n",
            "Epoch 77/100\n",
            "1/1 [==============================] - 0s 10ms/step - loss: 0.0123\n",
            "Epoch 78/100\n",
            "1/1 [==============================] - 0s 9ms/step - loss: 0.0876\n",
            "Epoch 79/100\n",
            "1/1 [==============================] - 0s 11ms/step - loss: 0.1128\n",
            "Epoch 80/100\n",
            "1/1 [==============================] - 0s 11ms/step - loss: 0.0507\n",
            "Epoch 81/100\n",
            "1/1 [==============================] - 0s 10ms/step - loss: 8.2738e-04\n",
            "Epoch 82/100\n",
            "1/1 [==============================] - 0s 10ms/step - loss: 0.0280\n",
            "Epoch 83/100\n",
            "1/1 [==============================] - 0s 10ms/step - loss: 0.0709\n",
            "Epoch 84/100\n",
            "1/1 [==============================] - 0s 10ms/step - loss: 0.0560\n",
            "Epoch 85/100\n",
            "1/1 [==============================] - 0s 10ms/step - loss: 0.0106\n",
            "Epoch 86/100\n",
            "1/1 [==============================] - 0s 10ms/step - loss: 0.0044\n",
            "Epoch 87/100\n",
            "1/1 [==============================] - 0s 13ms/step - loss: 0.0353\n",
            "Epoch 88/100\n",
            "1/1 [==============================] - 0s 10ms/step - loss: 0.0448\n",
            "Epoch 89/100\n",
            "1/1 [==============================] - 0s 10ms/step - loss: 0.0184\n",
            "Epoch 90/100\n",
            "1/1 [==============================] - 0s 11ms/step - loss: 1.0086e-04\n",
            "Epoch 91/100\n",
            "1/1 [==============================] - 0s 10ms/step - loss: 0.0140\n",
            "Epoch 92/100\n",
            "1/1 [==============================] - 0s 9ms/step - loss: 0.0296\n",
            "Epoch 93/100\n",
            "1/1 [==============================] - 0s 23ms/step - loss: 0.0194\n",
            "Epoch 94/100\n",
            "1/1 [==============================] - 0s 11ms/step - loss: 0.0019\n",
            "Epoch 95/100\n",
            "1/1 [==============================] - 0s 7ms/step - loss: 0.0042\n",
            "Epoch 96/100\n",
            "1/1 [==============================] - 0s 7ms/step - loss: 0.0171\n",
            "Epoch 97/100\n",
            "1/1 [==============================] - 0s 6ms/step - loss: 0.0162\n",
            "Epoch 98/100\n",
            "1/1 [==============================] - 0s 7ms/step - loss: 0.0039\n",
            "Epoch 99/100\n",
            "1/1 [==============================] - 0s 6ms/step - loss: 7.8528e-04\n",
            "Epoch 100/100\n",
            "1/1 [==============================] - 0s 6ms/step - loss: 0.0090\n"
          ]
        }
      ]
    },
    {
      "cell_type": "code",
      "source": [
        "#Evaluando la curva de aprendizaje del modelo \n",
        "epochs_hist.history.keys()\n",
        "\n",
        "#Grafico\n",
        "plt.plot(epochs_hist.history['loss'])\n",
        "plt.title('Progreso de perdida durante Entrenamiento del Modelo')\n",
        "plt.xlabel('Epoch')\n",
        "plt.ylabel('Training Loss')\n",
        "plt.legend('Training Loss')\n",
        "\n",
        "model.get_weights()"
      ],
      "metadata": {
        "colab": {
          "base_uri": "https://localhost:8080/",
          "height": 312
        },
        "id": "l_i7yes_fA-y",
        "outputId": "63a0952c-4a9c-4d30-80ef-68aae5476653"
      },
      "execution_count": 79,
      "outputs": [
        {
          "output_type": "execute_result",
          "data": {
            "text/plain": [
              "[array([[1.7945449]], dtype=float32), array([32.000404], dtype=float32)]"
            ]
          },
          "metadata": {},
          "execution_count": 79
        },
        {
          "output_type": "display_data",
          "data": {
            "text/plain": [
              "<Figure size 432x288 with 1 Axes>"
            ],
            "image/png": "[encoded data removed]"
          },
          "metadata": {
            "needs_background": "light"
          }
        }
      ]
    },
    {
      "cell_type": "code",
      "source": [
        "#Predicciones\n",
        "Temp_C = 0\n",
        "Temp_F = model.predict([Temp_C])\n",
        "print(Temp_F)"
      ],
      "metadata": {
        "colab": {
          "base_uri": "https://localhost:8080/"
        },
        "id": "_wxP-uDKhHwh",
        "outputId": "574e7b1b-09cc-4139-b75c-e91be62422d1"
      },
      "execution_count": 80,
      "outputs": [
        {
          "output_type": "stream",
          "name": "stdout",
          "text": [
            "[[32.000404]]\n"
          ]
        }
      ]
    },
    {
      "cell_type": "code",
      "source": [
        "Temp_F = 9/5 * Temp_C + 32\n",
        "print(Temp_F)"
      ],
      "metadata": {
        "colab": {
          "base_uri": "https://localhost:8080/"
        },
        "id": "l0zx5rQKh6JX",
        "outputId": "fb5b6c3f-1891-4f38-cea1-b4d73d03ef07"
      },
      "execution_count": 81,
      "outputs": [
        {
          "output_type": "stream",
          "name": "stdout",
          "text": [
            "32.0\n"
          ]
        }
      ]
    }
  ]
}